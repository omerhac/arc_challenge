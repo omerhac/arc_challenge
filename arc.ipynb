{
  "nbformat": 4,
  "nbformat_minor": 0,
  "metadata": {
    "colab": {
      "name": "arc.ipynb",
      "provenance": [],
      "authorship_tag": "ABX9TyNTt2qaf2Usicae3aHzjxOS",
      "include_colab_link": true
    },
    "kernelspec": {
      "name": "python3",
      "display_name": "Python 3"
    }
  },
  "cells": [
    {
      "cell_type": "markdown",
      "metadata": {
        "id": "view-in-github",
        "colab_type": "text"
      },
      "source": [
        "<a href=\"https://colab.research.google.com/github/omerhac/arc_challenge/blob/master/arc.ipynb\" target=\"_parent\"><img src=\"https://colab.research.google.com/assets/colab-badge.svg\" alt=\"Open In Colab\"/></a>"
      ]
    },
    {
      "cell_type": "code",
      "metadata": {
        "id": "YShrwCd2GUWi",
        "colab_type": "code",
        "colab": {}
      },
      "source": [
        "import numpy as np\n",
        "import tensorflow as tf\n",
        "import json\n",
        "from google.cloud import storage\n",
        "from matplotlib import pyplot as plt\n",
        "from matplotlib import colors"
      ],
      "execution_count": 0,
      "outputs": []
    },
    {
      "cell_type": "markdown",
      "metadata": {
        "id": "zqOKR-POOXki",
        "colab_type": "text"
      },
      "source": [
        "# Load data\n"
      ]
    },
    {
      "cell_type": "code",
      "metadata": {
        "id": "-96BlT_hHVkF",
        "colab_type": "code",
        "colab": {}
      },
      "source": [
        "## get paths\n",
        "GCS_PATH = \"gs://kds-d3cfb3d523ca35d2517017a78110126404d01fdea69417ce49950459\"\n",
        "training_filenames = tf.io.gfile.glob(GCS_PATH + \"/training/*\")\n",
        "test_filenames = tf.io.gfile.glob(GCS_PATH + \"/test/*\")\n",
        "eval_filenames = tf.io.gfile.glob(GCS_PATH + \"/evaluation/*\")"
      ],
      "execution_count": 0,
      "outputs": []
    },
    {
      "cell_type": "code",
      "metadata": {
        "id": "yir8C61UKLqQ",
        "colab_type": "code",
        "colab": {
          "base_uri": "https://localhost:8080/",
          "height": 53
        },
        "outputId": "a252c9ad-94d7-422b-e28f-b3bd7c3e42ac"
      },
      "source": [
        "%%time\n",
        "# create datasets with filenames\n",
        "training_dataset = tf.data.Dataset.list_files(training_filenames)\n",
        "eval_dataset = tf.data.Dataset.list_files(eval_filenames)\n",
        "test_dataset = tf.data.Dataset.list_files(test_filenames)"
      ],
      "execution_count": 3,
      "outputs": [
        {
          "output_type": "stream",
          "text": [
            "CPU times: user 8.72 s, sys: 593 ms, total: 9.31 s\n",
            "Wall time: 3min 13s\n"
          ],
          "name": "stdout"
        }
      ]
    },
    {
      "cell_type": "code",
      "metadata": {
        "id": "MTxvSi8tKNSn",
        "colab_type": "code",
        "colab": {}
      },
      "source": [
        "# load the jsons\n",
        "def load_task(filename):\n",
        "  task_json = tf.io.read_file(filename)\n",
        "  return task_json\n",
        "\n",
        "training_dataset = training_dataset.map(load_task)\n",
        "eval_dataset = eval_dataset.map(load_task)\n",
        "test_dataset = test_dataset.map(load_task)\n",
        "\n",
        "training_dataset_numpy = tf.data.Dataset.as_numpy_iterator(training_dataset, num_parallel_calls=AUTO) # convert to numpy iterator\n",
        "eval_dataset_numpy = tf.data.Dataset.as_numpy_iterator(eval_dataset)\n",
        "test_dataset_numpy = tf.data.Dataset.as_numpy_iterator(test_dataset)\n"
      ],
      "execution_count": 0,
      "outputs": []
    },
    {
      "cell_type": "code",
      "metadata": {
        "id": "bBSF4LwyL5G4",
        "colab_type": "code",
        "outputId": "789c5d92-c04a-4c01-a45a-6ddfce777b0f",
        "colab": {
          "base_uri": "https://localhost:8080/",
          "height": 53
        }
      },
      "source": [
        "%%time\n",
        "## create a numpy array of tasks (n_tasks, )\n",
        "def array_from_jsons(jsons_numpy_iterator):\n",
        "  \"\"\"\n",
        "    Create an array of task dictionaries from jsons numpy interator\n",
        "  \"\"\"\n",
        "\n",
        "  tasks = []\n",
        "  for task in jsons_numpy_iterator:\n",
        "    tasks.append(json.loads(task))\n",
        "\n",
        "  return np.stack(tasks)\n",
        "\n",
        "## get numpy arrays of datasets\n",
        "training_tasks = array_from_jsons(training_dataset_numpy)\n",
        "eval_tasks = array_from_jsons(eval_dataset_numpy)\n",
        "test_tasks = array_from_jsons(test_dataset_numpy)"
      ],
      "execution_count": 5,
      "outputs": [
        {
          "output_type": "stream",
          "text": [
            "CPU times: user 12.7 s, sys: 839 ms, total: 13.5 s\n",
            "Wall time: 8min 16s\n"
          ],
          "name": "stdout"
        }
      ]
    },
    {
      "cell_type": "markdown",
      "metadata": {
        "id": "sYLEt0yrPXf9",
        "colab_type": "text"
      },
      "source": [
        "## Utility functions"
      ]
    },
    {
      "cell_type": "code",
      "metadata": {
        "id": "xO9FwJjFNAnO",
        "colab_type": "code",
        "colab": {}
      },
      "source": [
        "def plot_one(task, ax, i,train_or_test,input_or_output):\n",
        "  \"\"\"\n",
        "  Plot one task on a given axis\n",
        "  \"\"\"\n",
        "  cmap = colors.ListedColormap(\n",
        "      ['#000000', '#0074D9','#FF4136','#2ECC40','#FFDC00',\n",
        "        '#AAAAAA', '#F012BE', '#FF851B', '#7FDBFF', '#870C25'])\n",
        "  norm = colors.Normalize(vmin=0, vmax=9)\n",
        "  \n",
        "  input_matrix = task[train_or_test][i][input_or_output]\n",
        "  ax.imshow(input_matrix, cmap=cmap, norm=norm)\n",
        "  ax.grid(True,which='both',color='lightgrey', linewidth=0.5)    \n",
        "  ax.set_yticks([x-0.5 for x in range(1+len(input_matrix))])\n",
        "  ax.set_xticks([x-0.5 for x in range(1+len(input_matrix[0]))])     \n",
        "  ax.set_xticklabels([])\n",
        "  ax.set_yticklabels([])\n",
        "  ax.set_title(train_or_test + ' '+input_or_output)\n",
        "    \n",
        "\n",
        "def plot_task(task):\n",
        "    \"\"\"\n",
        "    Plots the first train and test pairs of a specified task,\n",
        "    using same color scheme as the ARC app\n",
        "    \"\"\"    \n",
        "    num_train = len(task['train'])\n",
        "    fig, axs = plt.subplots(2, num_train, figsize=(3*num_train,3*2))\n",
        "    for i in range(num_train):     \n",
        "        plot_one(task, axs[0,i],i,'train','input')\n",
        "        plot_one(task, axs[1,i],i,'train','output')        \n",
        "    plt.tight_layout()\n",
        "    plt.show()        \n",
        "        \n",
        "    num_test = len(task['test'])\n",
        "    fig, axs = plt.subplots(2, num_test, figsize=(3*num_test,3*2))\n",
        "    if num_test==1: \n",
        "        plot_one(task, axs[0],0,'test','input')\n",
        "        plot_one(task, axs[1],0,'test','output')     \n",
        "    else:\n",
        "        for i in range(num_test):      \n",
        "            plot_one(axs[0,i],i,'test','input')\n",
        "            plot_one(axs[1,i],i,'test','output')  \n",
        "    plt.tight_layout()\n",
        "    plt.show() "
      ],
      "execution_count": 0,
      "outputs": []
    },
    {
      "cell_type": "code",
      "metadata": {
        "id": "zlhVzBHEp66s",
        "colab_type": "code",
        "outputId": "15d84a50-e520-49ca-818d-2fcfe9f2df0f",
        "colab": {
          "base_uri": "https://localhost:8080/",
          "height": 685
        }
      },
      "source": [
        "plot_task(eval_tasks[1])"
      ],
      "execution_count": 0,
      "outputs": [
        {
          "output_type": "display_data",
          "data": {
            "image/png": "[encoded data removed]",
            "text/plain": [
              "<Figure size 648x432 with 6 Axes>"
            ]
          },
          "metadata": {
            "tags": [],
            "needs_background": "light"
          }
        },
        {
          "output_type": "display_data",
          "data": {
            "image/png": "[encoded data removed]",
            "text/plain": [
              "<Figure size 216x432 with 2 Axes>"
            ]
          },
          "metadata": {
            "tags": [],
            "needs_background": "light"
          }
        }
      ]
    },
    {
      "cell_type": "markdown",
      "metadata": {
        "id": "X9AnAL0VU2Tu",
        "colab_type": "text"
      },
      "source": [
        "# Check input / output shape distirbution"
      ]
    },
    {
      "cell_type": "code",
      "metadata": {
        "id": "DuTeaiVASRhR",
        "colab_type": "code",
        "colab": {}
      },
      "source": [
        "def get_dataset_shapes(dataset):\n",
        "  \"\"\"\n",
        "  Returns dataset board shapes. \n",
        "  \"\"\"\n",
        "\n",
        "  shape_0 = []\n",
        "  shape_1 = []\n",
        "  \n",
        "  # check every task\n",
        "  for task in dataset:\n",
        "    boards = get_task_boards(task) # get all boards\n",
        "    shape_0 += [board.shape[0] for board in boards]\n",
        "    shape_1 += [board.shape[1] for board in boards]\n",
        "  \n",
        "  return shape_0, shape_1\n",
        "\n",
        "def get_task_boards(task):\n",
        "  \"\"\"\n",
        "  Get the training / testing boards of every example in a specific task\n",
        "  \"\"\"\n",
        "  \n",
        "  boards = []\n",
        "\n",
        "  # train boards\n",
        "  for example in task['train']:\n",
        "    input_board = np.array(example['input'])\n",
        "    output_board = np.array(example['output'])\n",
        "    boards += [input_board, output_board]\n",
        "\n",
        "  # test boards\n",
        "  for example in task['test']:\n",
        "    input_board = np.array(example['input'])\n",
        "    output_board = np.array(example['output'])\n",
        "    boards += [input_board, output_board]\n",
        "\n",
        "  return boards"
      ],
      "execution_count": 0,
      "outputs": []
    },
    {
      "cell_type": "code",
      "metadata": {
        "id": "Y68hEi25MF8G",
        "colab_type": "code",
        "colab": {}
      },
      "source": [
        "train_shape_0, train_shape_1 = get_dataset_shapes(training_tasks)\n",
        "eval_shape_0, eval_shape_1 = get_dataset_shapes(eval_tasks)"
      ],
      "execution_count": 0,
      "outputs": []
    },
    {
      "cell_type": "code",
      "metadata": {
        "id": "VP5xNkZ6TSZ8",
        "colab_type": "code",
        "outputId": "6a405e44-a2d3-412a-a31f-c65469e1c685",
        "colab": {
          "base_uri": "https://localhost:8080/",
          "height": 499
        }
      },
      "source": [
        "## plot\n",
        "plt.figure(figsize=(15,8))\n",
        "plt.subplot(3,2,1)\n",
        "plt.hist(train_shape_0, bins=30)\n",
        "plt.title(\"train shape 0\")\n",
        "plt.subplot(3,2,2)\n",
        "plt.hist(train_shape_1, bins=30)\n",
        "plt.title(\"train shape 1\")\n",
        "plt.subplot(3,2,3)\n",
        "plt.hist(eval_shape_0, bins=30)\n",
        "plt.title(\"eval shape 0\")\n",
        "plt.subplot(3,2,4)\n",
        "plt.hist(eval_shape_1, bins=30)\n",
        "plt.title(\"eval shape 1\")\n",
        "plt.subplot(3,2,5)\n",
        "plt.hist(eval_shape_0 + train_shape_0, bins=30)\n",
        "plt.title(\"combined shape 0\")\n",
        "plt.subplot(3,2,6)\n",
        "plt.hist(eval_shape_1 + train_shape_1, bins=30)\n",
        "plt.title(\"combined shape 1\")\n",
        "plt.show()"
      ],
      "execution_count": 22,
      "outputs": [
        {
          "output_type": "display_data",
          "data": {
            "image/png": "[encoded data removed]",
            "text/plain": [
              "<Figure size 1080x576 with 6 Axes>"
            ]
          },
          "metadata": {
            "tags": [],
            "needs_background": "light"
          }
        }
      ]
    },
    {
      "cell_type": "code",
      "metadata": {
        "id": "1d70gx45TuZ8",
        "colab_type": "code",
        "colab": {}
      },
      "source": [
        ""
      ],
      "execution_count": 0,
      "outputs": []
    }
  ]
}