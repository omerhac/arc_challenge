{
  "nbformat": 4,
  "nbformat_minor": 0,
  "metadata": {
    "colab": {
      "name": "board_gan.ipynb",
      "provenance": [],
      "authorship_tag": "ABX9TyODncQeBZumukwmGgyUiQuf",
      "include_colab_link": true
    },
    "kernelspec": {
      "name": "python3",
      "display_name": "Python 3"
    }
  },
  "cells": [
    {
      "cell_type": "markdown",
      "metadata": {
        "id": "view-in-github",
        "colab_type": "text"
      },
      "source": [
        "<a href=\"https://colab.research.google.com/github/omerhac/arc_challenge/blob/master/board_gan.ipynb\" target=\"_parent\"><img src=\"https://colab.research.google.com/assets/colab-badge.svg\" alt=\"Open In Colab\"/></a>"
      ]
    },
    {
      "cell_type": "code",
      "metadata": {
        "id": "Wlv1GB4-Nyzs",
        "colab_type": "code",
        "colab": {}
      },
      "source": [
        "import tensorflow as tf\n",
        "import numpy as np\n",
        "import matplotlib.pyplot as plt"
      ],
      "execution_count": 1,
      "outputs": []
    },
    {
      "cell_type": "code",
      "metadata": {
        "id": "qbftZ2NoObBE",
        "colab_type": "code",
        "colab": {
          "base_uri": "https://localhost:8080/",
          "height": 199
        },
        "outputId": "3f759869-0564-485f-eddd-af7146d453dc"
      },
      "source": [
        "!pip install import_ipynb\n",
        "import import_ipynb"
      ],
      "execution_count": 2,
      "outputs": [
        {
          "output_type": "stream",
          "text": [
            "Collecting import_ipynb\n",
            "  Downloading https://files.pythonhosted.org/packages/63/35/495e0021bfdcc924c7cdec4e9fbb87c88dd03b9b9b22419444dc370c8a45/import-ipynb-0.1.3.tar.gz\n",
            "Building wheels for collected packages: import-ipynb\n",
            "  Building wheel for import-ipynb (setup.py) ... \u001b[?25l\u001b[?25hdone\n",
            "  Created wheel for import-ipynb: filename=import_ipynb-0.1.3-cp36-none-any.whl size=2976 sha256=96ac65d7ccaf0cb1bc21327beb03890c4c5e631948a85a43eafc8dcdcddcdc15\n",
            "  Stored in directory: /root/.cache/pip/wheels/b4/7b/e9/a3a6e496115dffdb4e3085d0ae39ffe8a814eacc44bbf494b5\n",
            "Successfully built import-ipynb\n",
            "Installing collected packages: import-ipynb\n",
            "Successfully installed import-ipynb-0.1.3\n"
          ],
          "name": "stdout"
        }
      ]
    },
    {
      "cell_type": "code",
      "metadata": {
        "id": "IHJh_xVxOpYu",
        "colab_type": "code",
        "colab": {
          "base_uri": "https://localhost:8080/",
          "height": 161
        },
        "outputId": "87510429-c868-4877-da7d-db219e0c6a16"
      },
      "source": [
        "# get repository from github\n",
        "!git clone https://github.com/omerhac/arc_challenge.git\n",
        "\n",
        "# navigate to dir\n",
        "%cd arc_challenge"
      ],
      "execution_count": 3,
      "outputs": [
        {
          "output_type": "stream",
          "text": [
            "Cloning into 'arc_challenge'...\n",
            "remote: Enumerating objects: 9, done.\u001b[K\n",
            "remote: Counting objects:  11% (1/9)\u001b[K\rremote: Counting objects:  22% (2/9)\u001b[K\rremote: Counting objects:  33% (3/9)\u001b[K\rremote: Counting objects:  44% (4/9)\u001b[K\rremote: Counting objects:  55% (5/9)\u001b[K\rremote: Counting objects:  66% (6/9)\u001b[K\rremote: Counting objects:  77% (7/9)\u001b[K\rremote: Counting objects:  88% (8/9)\u001b[K\rremote: Counting objects: 100% (9/9)\u001b[K\rremote: Counting objects: 100% (9/9), done.\u001b[K\n",
            "remote: Compressing objects: 100% (9/9), done.\u001b[K\n",
            "remote: Total 188 (delta 3), reused 0 (delta 0), pack-reused 179\u001b[K\n",
            "Receiving objects: 100% (188/188), 10.54 MiB | 10.13 MiB/s, done.\n",
            "Resolving deltas: 100% (83/83), done.\n",
            "/content/arc_challenge\n"
          ],
          "name": "stdout"
        }
      ]
    },
    {
      "cell_type": "code",
      "metadata": {
        "id": "PXkWlMCKO5QY",
        "colab_type": "code",
        "colab": {
          "base_uri": "https://localhost:8080/",
          "height": 35
        },
        "outputId": "51defa31-0eaf-4f06-fdd0-b113d57e19ad"
      },
      "source": [
        "import preprocess"
      ],
      "execution_count": 4,
      "outputs": [
        {
          "output_type": "stream",
          "text": [
            "importing Jupyter notebook from preprocess.ipynb\n"
          ],
          "name": "stdout"
        }
      ]
    },
    {
      "cell_type": "markdown",
      "metadata": {
        "id": "q-kSWbocP3xG",
        "colab_type": "text"
      },
      "source": [
        "# Data loading and gathering\n"
      ]
    },
    {
      "cell_type": "code",
      "metadata": {
        "id": "D7Je068QPnsS",
        "colab_type": "code",
        "colab": {}
      },
      "source": [
        "# load the lists of tasks\n",
        "training_tasks, eval_tasks, test_tasks = preprocess.load_data_from_jsons()"
      ],
      "execution_count": 5,
      "outputs": []
    },
    {
      "cell_type": "code",
      "metadata": {
        "id": "iFw86YhoP688",
        "colab_type": "code",
        "colab": {}
      },
      "source": [
        "# augment and arrange the data as an array\n",
        "all_boards = preprocess.get_all_boards(training_tasks, eval_tasks, test_tasks)\n",
        "all_boards += preprocess.get_all_boards(training_tasks, eval_tasks, test_tasks) # add another batch of randomly padd boards\n",
        "\n",
        "# make all boards binary\n",
        "all_boards = [preprocess.get_binary_board(board) for board in all_boards]\n",
        "\n",
        "# get rotated views of all the boards\n",
        "rotated_boards = []\n",
        "\n",
        "for board in all_boards:\n",
        "  rotated_views = preprocess.get_rotated_views(board)\n",
        "  rotated_boards += rotated_views\n"
      ],
      "execution_count": 6,
      "outputs": []
    },
    {
      "cell_type": "code",
      "metadata": {
        "id": "E7PyfjX7TRB8",
        "colab_type": "code",
        "colab": {
          "base_uri": "https://localhost:8080/",
          "height": 35
        },
        "outputId": "13a1b33f-6785-4f35-d635-6acb7e530cc5"
      },
      "source": [
        "print(len(rotated_boards))"
      ],
      "execution_count": 7,
      "outputs": [
        {
          "output_type": "stream",
          "text": [
            "136320\n"
          ],
          "name": "stdout"
        }
      ]
    },
    {
      "cell_type": "markdown",
      "metadata": {
        "id": "_tCJHyZYW0Hh",
        "colab_type": "text"
      },
      "source": [
        "# GAN"
      ]
    },
    {
      "cell_type": "code",
      "metadata": {
        "id": "ELqCBMY3FulS",
        "colab_type": "code",
        "colab": {}
      },
      "source": [
        "## constants \"\" \n",
        "GENERATOR_DENSE_REP = 50\n",
        "N_CHANNELS = 1"
      ],
      "execution_count": 11,
      "outputs": []
    },
    {
      "cell_type": "markdown",
      "metadata": {
        "id": "J33SGSwCDYWb",
        "colab_type": "text"
      },
      "source": [
        "# Defining the generator"
      ]
    },
    {
      "cell_type": "code",
      "metadata": {
        "id": "Mz1IdwGxWtfs",
        "colab_type": "code",
        "colab": {}
      },
      "source": [
        "from tensorflow.keras.layers import Dense, Conv2DTranspose, BatchNormalization, Input\n",
        "def generator():\n",
        "  \"\"\"\n",
        "  Creates a board generator\n",
        "  \"\"\"\n",
        "\n",
        "  def util_gen(z):\n",
        "    \"\"\"\n",
        "    A utility generator function to be used in a lambda later on\n",
        "    \"\"\"\n",
        "\n",
        "    # project and reshape z\n",
        "    linear = Dense(128*4*4, activation='linear')(z)\n",
        "    reshaped_z = tf.keras.layers.Reshape([4, 4, 64])(linear)\n",
        "\n",
        "    # first deconv layer\n",
        "    g_conv1 = Conv2DTranspose(64, kernel_size=(3,3), activation='relu')(reshaped_z)\n",
        "    g_normalized_1 = BatchNormalization(momentum=0.9)(g_conv1)\n",
        "\n",
        "    # second deconv layer\n",
        "    g_conv2 = Conv2DTranspose(32, kernel_size=(3,3), activation='relu')(g_normalized_1)\n",
        "    g_normalized_2 = BatchNormalization(momentum=0.9)(g_conv2)\n",
        "\n",
        "    # third deconv layer\n",
        "    g_conv3 = Conv2DTranspose(32, kernel_size=(3,3), activation='relu')(g_normalized_2)\n",
        "    g_normalized_3 = BatchNormalization(momentum=0.9)(g_conv3)\n",
        "\n",
        "    # fourth deconv layer\n",
        "    g_conv4 = Conv2DTranspose(16, kernel_size=(3,3), activation='relu')(g_normalized_3)\n",
        "    g_normalized_4 = BatchNormalization(momentum=0.9)(g_conv4)\n",
        "\n",
        "    # fifth deconv layer\n",
        "    g_conv5 = Conv2DTranspose(8, kernel_size=(3,3), activation='relu')(g_normalized_4)\n",
        "    g_normalized_5 = BatchNormalization(momentum=0.9)(g_conv5)\n",
        "\n",
        "    # final layer\n",
        "    output_board = Conv2DTranspose(1, kernel_size=(3,3), activation='relu')(g_normalized_5)\n",
        "\n",
        "    return output_board\n",
        "\n",
        "  return lambda z: util_gen(z)\n"
      ],
      "execution_count": 19,
      "outputs": []
    },
    {
      "cell_type": "markdown",
      "metadata": {
        "id": "FkqNcrgYLXux",
        "colab_type": "text"
      },
      "source": [
        "## Defining discriminator "
      ]
    },
    {
      "cell_type": "code",
      "metadata": {
        "id": "FQIghRGOLfcN",
        "colab_type": "code",
        "colab": {}
      },
      "source": [
        "from tensorflow.keras.layers import Conv2D, GlobalAveragePooling2D\n",
        "def discriminator():\n",
        "  \"\"\"\n",
        "  Creates a discriminator\n",
        "  \"\"\"\n",
        "\n",
        "  def util_discriminator(board):\n",
        "    \"\"\"\n",
        "    A utility discriminator to be used in a lambda later on\n",
        "    \"\"\"\n",
        "\n",
        "    # first layer\n",
        "    d_conv1 = Conv2D(8, kernel_size=(3,3), activation='relu', name=\"d_conv1\")(board)\n",
        "    d_normalized_1 = BatchNormalization(momentum=0.9)(d_conv1)\n",
        "\n",
        "    # second layer\n",
        "    d_conv2 = Conv2D(16, kernel_size=(3,3), activation='relu', name=\"d_conv2\")(d_normalized_1)\n",
        "    d_normalized_2 = BatchNormalization(momentum=0.9)(d_conv2)\n",
        "\n",
        "    # third layer\n",
        "    d_conv3 = Conv2D(32, kernel_size=(3,3), activation='relu', name=\"d_conv3\")(d_normalized_2)\n",
        "    d_normalized_3 = BatchNormalization(momentum=0.9)(d_conv3)\n",
        "\n",
        "    # fourth layer\n",
        "    d_conv4 = Conv2D(64, kernel_size=(3,3), activation='relu', name=\"d_conv4\")(d_normalized_3)\n",
        "    d_normalized_4 = BatchNormalization(momentum=0.9)(d_conv4)\n",
        "\n",
        "    # fifth layer\n",
        "    d_conv5 = Conv2D(128, kernel_size=(3,3), activation='relu', name=\"d_conv5\")(d_normalized_4)\n",
        "    d_normalized_5 = BatchNormalization(momentum=0.9)(d_conv5)\n",
        "\n",
        "    # avarage_pooling\n",
        "    d_ap = GlobalAveragePooling2D()(d_normalized_5)\n",
        "\n",
        "    # dense\n",
        "    d_out = Dense(1, activation='sigmoid')(d_ap)\n",
        "\n",
        "    return d_out\n",
        "  \n",
        "  return lambda board: util_discriminator(board)"
      ],
      "execution_count": 27,
      "outputs": []
    },
    {
      "cell_type": "code",
      "metadata": {
        "id": "AEzqeG4WGHJ4",
        "colab_type": "code",
        "colab": {
          "base_uri": "https://localhost:8080/",
          "height": 629
        },
        "outputId": "3657ccbf-7158-4d8a-a5c4-86fccfbefa13"
      },
      "source": [
        "def get_model():\n",
        "  z = Input([16,16,1], name='z')\n",
        "  output = discriminator()(z)\n",
        "  \n",
        "  model = tf.keras.Model(inputs=z, outputs=output)\n",
        "  model.compile()\n",
        "  return model\n",
        "\n",
        "m = get_model()\n",
        "m.summary()"
      ],
      "execution_count": 28,
      "outputs": [
        {
          "output_type": "stream",
          "text": [
            "Model: \"model_3\"\n",
            "_________________________________________________________________\n",
            "Layer (type)                 Output Shape              Param #   \n",
            "=================================================================\n",
            "z (InputLayer)               [(None, 16, 16, 1)]       0         \n",
            "_________________________________________________________________\n",
            "d_conv1 (Conv2D)             (None, 14, 14, 8)         80        \n",
            "_________________________________________________________________\n",
            "batch_normalization_13 (Batc (None, 14, 14, 8)         32        \n",
            "_________________________________________________________________\n",
            "d_conv2 (Conv2D)             (None, 12, 12, 16)        1168      \n",
            "_________________________________________________________________\n",
            "batch_normalization_14 (Batc (None, 12, 12, 16)        64        \n",
            "_________________________________________________________________\n",
            "d_conv3 (Conv2D)             (None, 10, 10, 32)        4640      \n",
            "_________________________________________________________________\n",
            "batch_normalization_15 (Batc (None, 10, 10, 32)        128       \n",
            "_________________________________________________________________\n",
            "d_conv4 (Conv2D)             (None, 8, 8, 64)          18496     \n",
            "_________________________________________________________________\n",
            "batch_normalization_16 (Batc (None, 8, 8, 64)          256       \n",
            "_________________________________________________________________\n",
            "d_conv5 (Conv2D)             (None, 6, 6, 128)         73856     \n",
            "_________________________________________________________________\n",
            "batch_normalization_17 (Batc (None, 6, 6, 128)         512       \n",
            "_________________________________________________________________\n",
            "global_average_pooling2d (Gl (None, 128)               0         \n",
            "_________________________________________________________________\n",
            "dense_5 (Dense)              (None, 1)                 129       \n",
            "=================================================================\n",
            "Total params: 99,361\n",
            "Trainable params: 98,865\n",
            "Non-trainable params: 496\n",
            "_________________________________________________________________\n"
          ],
          "name": "stdout"
        }
      ]
    },
    {
      "cell_type": "code",
      "metadata": {
        "id": "AV46BI-HJ0KT",
        "colab_type": "code",
        "colab": {}
      },
      "source": [
        ""
      ],
      "execution_count": null,
      "outputs": []
    }
  ]
}